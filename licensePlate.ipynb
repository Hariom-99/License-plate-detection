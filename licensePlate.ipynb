{
  "nbformat": 4,
  "nbformat_minor": 0,
  "metadata": {
    "colab": {
      "provenance": [],
      "gpuType": "T4",
      "authorship_tag": "ABX9TyM5obUwF7VdQPUZcsqCIf0E",
      "include_colab_link": true
    },
    "kernelspec": {
      "name": "python3",
      "display_name": "Python 3"
    },
    "language_info": {
      "name": "python"
    },
    "accelerator": "GPU"
  },
  "cells": [
    {
      "cell_type": "markdown",
      "metadata": {
        "id": "view-in-github",
        "colab_type": "text"
      },
      "source": [
        "<a href=\"https://colab.research.google.com/github/Hariom-99/License-plate-detection/blob/main/licensePlate.ipynb\" target=\"_parent\"><img src=\"https://colab.research.google.com/assets/colab-badge.svg\" alt=\"Open In Colab\"/></a>"
      ]
    },
    {
      "cell_type": "code",
      "source": [
        "!pip install requests opencv-python\n"
      ],
      "metadata": {
        "colab": {
          "base_uri": "https://localhost:8080/"
        },
        "id": "C0_-7X2BpYZN",
        "outputId": "a7f72354-2c85-4a67-c4ae-7388cb329563"
      },
      "execution_count": 8,
      "outputs": [
        {
          "output_type": "stream",
          "name": "stdout",
          "text": [
            "Requirement already satisfied: requests in /usr/local/lib/python3.12/dist-packages (2.32.4)\n",
            "Requirement already satisfied: opencv-python in /usr/local/lib/python3.12/dist-packages (4.12.0.88)\n",
            "Requirement already satisfied: charset_normalizer<4,>=2 in /usr/local/lib/python3.12/dist-packages (from requests) (3.4.3)\n",
            "Requirement already satisfied: idna<4,>=2.5 in /usr/local/lib/python3.12/dist-packages (from requests) (3.10)\n",
            "Requirement already satisfied: urllib3<3,>=1.21.1 in /usr/local/lib/python3.12/dist-packages (from requests) (2.5.0)\n",
            "Requirement already satisfied: certifi>=2017.4.17 in /usr/local/lib/python3.12/dist-packages (from requests) (2025.8.3)\n",
            "Requirement already satisfied: numpy<2.3.0,>=2 in /usr/local/lib/python3.12/dist-packages (from opencv-python) (2.0.2)\n"
          ]
        }
      ]
    },
    {
      "cell_type": "code",
      "source": [
        "!pip install python-dotenv\n"
      ],
      "metadata": {
        "colab": {
          "base_uri": "https://localhost:8080/"
        },
        "id": "fJw9iCgtujeI",
        "outputId": "1e7ce28f-f809-4660-ca3c-c7d1fa0f3325"
      },
      "execution_count": 10,
      "outputs": [
        {
          "output_type": "stream",
          "name": "stdout",
          "text": [
            "Requirement already satisfied: python-dotenv in /usr/local/lib/python3.12/dist-packages (1.1.1)\n"
          ]
        }
      ]
    },
    {
      "cell_type": "code",
      "source": [
        "# Create a .env file with your API key\n",
        "with open(\".env\", \"w\") as f:\n",
        "    f.write(\"PLATE_RECOGNIZER_KEY=59416f6f44c597e74744e6f439ca6688e42606a0\\n\")\n"
      ],
      "metadata": {
        "id": "MD_1z6PMuowL"
      },
      "execution_count": 11,
      "outputs": []
    },
    {
      "cell_type": "code",
      "source": [
        "import cv2\n",
        "import requests\n",
        "from google.colab.patches import cv2_imshow\n",
        "from google.colab import userdata\n",
        "\n",
        "# Retrieve the secret value\n",
        "API_KEY = userdata.get('PLATE_RECOGNIZER_KEY')\n",
        "\n",
        "\n",
        "# ====== 1. Set your API key ======\n",
        "API_URL = \"https://api.platerecognizer.com/v1/plate-reader/\"\n",
        "\n",
        "# ====== 2. Path to your uploaded video ======\n",
        "video_path = \"/content/Untitled video - Made with Clipchamp.mp4\"  # replace with actual file name\n",
        "\n",
        "# ====== 3. Open video ======\n",
        "cap = cv2.VideoCapture(video_path)\n",
        "width = int(cap.get(cv2.CAP_PROP_FRAME_WIDTH))\n",
        "height = int(cap.get(cv2.CAP_PROP_FRAME_HEIGHT))\n",
        "fps = cap.get(cv2.CAP_PROP_FPS)\n",
        "\n",
        "# Output video writer\n",
        "fourcc = cv2.VideoWriter_fourcc(*'mp4v')\n",
        "out = cv2.VideoWriter(\"plate_output_video.mp4\", fourcc, fps, (width, height))\n",
        "\n",
        "frame_count = 0\n",
        "\n",
        "while True:\n",
        "    ret, frame = cap.read()\n",
        "    if not ret:\n",
        "        break\n",
        "\n",
        "    # ====== Save temporary frame ======\n",
        "    temp_frame_path = f\"temp_frame.jpg\"\n",
        "    cv2.imwrite(temp_frame_path, frame)\n",
        "\n",
        "    # ====== Send frame to Plate Recognizer API ======\n",
        "    with open(temp_frame_path, \"rb\") as f:\n",
        "        response = requests.post(\n",
        "            API_URL,\n",
        "            files={\"upload\": f},\n",
        "            headers={\"Authorization\": f\"Token {API_KEY}\"}\n",
        "        )\n",
        "\n",
        "    # ====== Parse API response ======\n",
        "    data = response.json()\n",
        "    for plate in data.get('results', []):\n",
        "        bbox = plate['box']\n",
        "        text = plate['plate']\n",
        "        x1, y1, x2, y2 = bbox['xmin'], bbox['ymin'], bbox['xmax'], bbox['ymax']\n",
        "\n",
        "        # Draw bounding box and plate text\n",
        "        cv2.rectangle(frame, (x1, y1), (x2, y2), (0,255,0), 2)\n",
        "        cv2.putText(frame, text, (x1, y1-10),\n",
        "                    cv2.FONT_HERSHEY_SIMPLEX, 0.8, (0,255,0), 2)\n",
        "        print(f\"Frame {frame_count}: Detected Plate: {text}\")\n",
        "\n",
        "    # Optional: preview every 30th frame\n",
        "    if frame_count % 30 == 0:\n",
        "        cv2_imshow(frame)\n",
        "\n",
        "    # Write frame to output video\n",
        "    out.write(frame)\n",
        "    frame_count += 1\n",
        "\n",
        "# ====== Release resources ======\n",
        "cap.release()\n",
        "out.release()\n",
        "print(\"✅ Processing complete! Saved as plate_output_video.mp4\")\n"
      ],
      "metadata": {
        "id": "3TLllXY7p3YL"
      },
      "execution_count": null,
      "outputs": []
    }
  ]
}